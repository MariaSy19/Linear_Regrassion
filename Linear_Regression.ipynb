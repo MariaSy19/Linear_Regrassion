{
 "cells": [
  {
   "cell_type": "markdown",
   "metadata": {},
   "source": [
    "## Linear Regression"
   ]
  },
  {
   "cell_type": "code",
   "execution_count": 73,
   "metadata": {},
   "outputs": [],
   "source": [
    "import random\n",
    "import numpy as np\n",
    "import pandas as pd\n",
    "from sklearn.model_selection import train_test_split\n",
    "from sklearn.preprocessing import StandardScaler"
   ]
  },
  {
   "cell_type": "code",
   "execution_count": 74,
   "metadata": {},
   "outputs": [],
   "source": [
    "data = []\n",
    "Xs = [[],[],[]]"
   ]
  },
  {
   "cell_type": "code",
   "execution_count": 75,
   "metadata": {},
   "outputs": [],
   "source": [
    "# Generate 1000 liner samples\n",
    "for i in range(1000):\n",
    "    X1 = random.random()\n",
    "    Xs[0].append(X1)\n",
    "    X2 = random.random()\n",
    "    Xs[1].append(X2)\n",
    "    X3 = random.random()\n",
    "    Xs[2].append(X3)\n",
    "    Y = 5 * X1 + 3 * X2 + 1.5 * X3 + 6\n",
    "    data.append(Y) "
   ]
  },
  {
   "cell_type": "code",
   "execution_count": 76,
   "metadata": {},
   "outputs": [],
   "source": [
    "# Creating DataFram to hold the data\n",
    "allData = {'feature1': Xs[0], 'feature2': Xs[1], 'feature3': Xs[2], 'labels': data}\n",
    "dataFram = pd.DataFrame(allData)"
   ]
  },
  {
   "cell_type": "code",
   "execution_count": 77,
   "metadata": {},
   "outputs": [],
   "source": [
    "# Separating features and labels\n",
    "Xs = dataFram[['feature1', 'feature2', 'feature3']]\n",
    "Y = dataFram['labels']"
   ]
  },
  {
   "cell_type": "code",
   "execution_count": 78,
   "metadata": {},
   "outputs": [
    {
     "name": "stdout",
     "output_type": "stream",
     "text": [
      "Features:\n",
      " feature1  feature2  feature3\n",
      " 0.869606  0.436258  0.884835\n",
      " 0.194266  0.563257  0.123143\n",
      " 0.057094  0.232088  0.970231\n",
      " 0.083849  0.511849  0.035924\n",
      " 0.080011  0.780000  0.988668\n",
      "\n",
      "Labels:\n",
      "12.984055\n",
      " 8.845814\n",
      " 8.437079\n",
      " 8.008677\n",
      "10.223058\n"
     ]
    }
   ],
   "source": [
    "# Displaying the separated features and labels\n",
    "print(\"Features:\")\n",
    "print(Xs.head().to_string(index=False))\n",
    "\n",
    "print(\"\\nLabels:\")\n",
    "print(Y.head().to_string(index=False))\n"
   ]
  },
  {
   "cell_type": "code",
   "execution_count": 79,
   "metadata": {},
   "outputs": [],
   "source": [
    "# Split the data\n",
    "X_train, X_test, y_train, y_test = train_test_split(Xs, Y, test_size=0.2, random_state=42)\n"
   ]
  },
  {
   "cell_type": "code",
   "execution_count": null,
   "metadata": {},
   "outputs": [],
   "source": []
  }
 ],
 "metadata": {
  "kernelspec": {
   "display_name": "Python 3",
   "language": "python",
   "name": "python3"
  },
  "language_info": {
   "codemirror_mode": {
    "name": "ipython",
    "version": 3
   },
   "file_extension": ".py",
   "mimetype": "text/x-python",
   "name": "python",
   "nbconvert_exporter": "python",
   "pygments_lexer": "ipython3",
   "version": "3.12.1"
  }
 },
 "nbformat": 4,
 "nbformat_minor": 2
}
